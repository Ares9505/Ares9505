{
  "nbformat": 4,
  "nbformat_minor": 0,
  "metadata": {
    "colab": {
      "provenance": [],
      "authorship_tag": "ABX9TyNbieRaaNv/VDSRAHSlU5dv",
      "include_colab_link": true
    },
    "kernelspec": {
      "name": "python3",
      "display_name": "Python 3"
    },
    "language_info": {
      "name": "python"
    }
  },
  "cells": [
    {
      "cell_type": "markdown",
      "metadata": {
        "id": "view-in-github",
        "colab_type": "text"
      },
      "source": [
        "<a href=\"https://colab.research.google.com/github/Ares9505/Ares9505/blob/main/Practica1.ipynb\" target=\"_parent\"><img src=\"https://colab.research.google.com/assets/colab-badge.svg\" alt=\"Open In Colab\"/></a>"
      ]
    },
    {
      "cell_type": "code",
      "execution_count": null,
      "metadata": {
        "colab": {
          "base_uri": "https://localhost:8080/"
        },
        "id": "GevnIKypPduh",
        "outputId": "3f0a6181-5a8e-4047-92ef-65eb502ce293"
      },
      "outputs": [
        {
          "output_type": "stream",
          "name": "stdout",
          "text": [
            "Drive already mounted at /content/drive; to attempt to forcibly remount, call drive.mount(\"/content/drive\", force_remount=True).\n"
          ]
        }
      ],
      "source": [
        "#Los archivos de audio seran analizados desde drive\n",
        "#por tanto se debe montar la cuenta de drive\n",
        "from google.colab import drive\n",
        "drive.mount('/content/drive')"
      ]
    },
    {
      "cell_type": "code",
      "source": [
        "#librerias necesarias\n",
        "\n",
        "#Usadas para descompresion de audios\n",
        "import os\n",
        "import zipfile\n",
        "\n",
        "#Usadas para en extraccion de caracteristicas\n",
        "import librosa\n",
        "import numpy as np\n",
        "import pandas as pd\n",
        "\n",
        "#para visualizacion de datos\n",
        "import matplotlib.pyplot as plt\n",
        "import seaborn as sns\n",
        "\n",
        "#Usadas para la extraccion de features de audio\n",
        "import librosa.display\n",
        "\n",
        "#Standar scaler para normalizar los datos\n",
        "from sklearn.preprocessing import StandardScaler\n",
        "\n",
        "#Para la estadistica de los modelos\n",
        "from sklearn.model_selection import train_test_split\n",
        "from sklearn.metrics import accuracy_score, confusion_matrix, classification_report\n",
        "from sklearn.metrics import confusion_matrix\n",
        "from sklearn.model_selection import StratifiedKFold, cross_val_score\n",
        "\n",
        "#para crear los modelos de clasificacion\n",
        "from sklearn import svm\n",
        "from sklearn.neighbors import KNeighborsClassifier\n",
        "from sklearn.tree import DecisionTreeClassifier\n",
        "from sklearn.ensemble import RandomForestClassifier\n",
        "\n",
        "#para conversion de formatos de audio\n",
        "#fue necesario instalar pydub\n",
        "!pip install pydub\n",
        "from pydub import AudioSegment\n",
        "\n",
        "\n",
        "#variables globales\n",
        "dir_audios_comprimidos = '/content/drive/My Drive/Ciencia de datos/Datos de voz comprimidos'\n",
        "dir_audios = '/content/drive/My Drive/Ciencia de datos/Datos de voz'\n"
      ],
      "metadata": {
        "colab": {
          "base_uri": "https://localhost:8080/"
        },
        "id": "sKRjoP_z4044",
        "outputId": "47ac9bd8-6b80-4740-ae18-111c9a226cf1"
      },
      "execution_count": null,
      "outputs": [
        {
          "output_type": "stream",
          "name": "stdout",
          "text": [
            "Looking in indexes: https://pypi.org/simple, https://us-python.pkg.dev/colab-wheels/public/simple/\n",
            "Requirement already satisfied: pydub in /usr/local/lib/python3.8/dist-packages (0.25.1)\n"
          ]
        }
      ]
    },
    {
      "cell_type": "code",
      "source": [
        "\n",
        "#Descompresion de archivos\n",
        "def extract_all_zip_files(dir_audios_comprimidos, dir_audios ):\n",
        "    for item in os.listdir(dir_audios_comprimidos):\n",
        "        if item.endswith('.zip'):\n",
        "            file_path = os.path.join(dir_audios_comprimidos, item)\n",
        "            with zipfile.ZipFile(file_path, 'r') as zip_ref:\n",
        "                zip_ref.extractall(dir_audios)\n",
        "\n",
        "extract_all_zip_files(dir_audios_comprimidos, dir_audios)\n"
      ],
      "metadata": {
        "id": "FVA3WbWcS42-"
      },
      "execution_count": null,
      "outputs": []
    },
    {
      "cell_type": "code",
      "source": [
        "\n",
        "#Extracción de características\n",
        "def extraer_caracteristicas(audio):\n",
        "\n",
        "  #ceptrales mfcc\n",
        "  mfcc = librosa.feature.mfcc(audio, sr= sample_rate)\n",
        "  mfcc_features= np.mean(mfcc, axis=1)\n",
        "  \n",
        "  #center of gravity,  or roll-off points \n",
        "  cof = librosa.feature.spectral_centroid(y= audio, sr=sample_rate)[0]\n",
        "  cof_mean= np.mean(cof)\n",
        "\n",
        "  #valor rms\n",
        "  rms = np.mean(librosa.feature.rms(y=audio).T, axis=0)\n",
        "\n",
        "  #Tasa de cruces por cero\n",
        "  zcr = np.mean(librosa.feature.zero_crossing_rate(y=audio).T, axis=0)\n",
        "\n",
        "  #ritmo\n",
        "  tempo, beats = librosa.beat.beat_track(y=audio, sr=sample_rate)\n",
        "\n",
        "  # velocidad de habla\n",
        "  duracion_audio = len(audio)/sample_rate\n",
        "  numero_de_palabras = 2 #Numero de palabras de la frase \"estoy bien\"\n",
        "  velocidad_habla =  numero_de_palabras/duracion_audio\n",
        "\n",
        "  #energy\n",
        "  energy = np.sum(np.abs(audio) ** 2)\n",
        "\n",
        "  #Mel Spectrogram\n",
        "  mel = np.mean(librosa.feature.melspectrogram(audio, sr=sample_rate).T, axis=0)\n",
        "  \n",
        "  #Chroma\n",
        "  stft = np.abs(librosa.stft(audio))\n",
        "  chroma = np.mean(librosa.feature.chroma_stft(S=stft, sr=sample_rate).T, axis=0)\n",
        "  resultado = np.hstack((mfcc_features, rms, zcr, mel, chroma, velocidad_habla, energy, tempo, cof_mean))\n",
        "\n",
        "  return resultado\n",
        "\n",
        "#prueba de longitud de resultados\n",
        "path = '/content/drive/My Drive/Ciencia de datos/Datos de voz/Ariel/Enojo_05.wav'\n",
        "audio, sample_rate = librosa.load(path)\n",
        "len(extraer_caracteristicas(audio))\n"
      ],
      "metadata": {
        "colab": {
          "base_uri": "https://localhost:8080/"
        },
        "id": "mS1XlL_1V41t",
        "outputId": "754115dc-c771-4b07-def4-e01b04e00e4a"
      },
      "execution_count": null,
      "outputs": [
        {
          "output_type": "execute_result",
          "data": {
            "text/plain": [
              "166"
            ]
          },
          "metadata": {},
          "execution_count": 272
        }
      ]
    },
    {
      "cell_type": "code",
      "source": [
        "\n",
        "#para remover silencios al inicio y al final del audio\n",
        "def eliminar_silencio(audio,sr):\n",
        "  energy = np.abs(audio) ** 2\n",
        "\n",
        "  # Identificar el inicio y final de los segmentos no silenciosos\n",
        "  esize = len(energy)\n",
        "  start = 0\n",
        "  end = esize\n",
        "  for i in range(esize):\n",
        "    if energy[i] > np.mean(energy):\n",
        "      start = i\n",
        "      break\n",
        "  \n",
        "  rev = np.flip(energy)\n",
        " \n",
        "  for j in range(esize):\n",
        "      if rev[j] > np.mean(energy):\n",
        "        end = esize - j\n",
        "        break\n",
        "  audio2 = audio[start:end]\n",
        "\n",
        "  return audio2\n",
        "\n",
        "#Prueba de eliminacion de silencio\n",
        "path = '/content/drive/My Drive/Ciencia de datos/Datos de voz/Ariel/Enojo_02.wav'\n",
        "audio, sample_rate = librosa.load(path)\n",
        "audio_refinado = eliminar_silencio(audio,sample_rate)\n",
        "fig, ax = plt.subplots()\n",
        "ax.plot(audio)\n",
        "plt.title(\"Señal de audio\")\n",
        "\n",
        "fig2, ax2 = plt.subplots()\n",
        "ax2.plot(audio_refinado)\n",
        "plt.title(\"Señal de audio recortada\")\n",
        "\n"
      ],
      "metadata": {
        "colab": {
          "base_uri": "https://localhost:8080/",
          "height": 562
        },
        "id": "glIpnCsyS-t1",
        "outputId": "d73b3f33-f1bd-4bce-c000-1d2c4bdf067f"
      },
      "execution_count": null,
      "outputs": [
        {
          "output_type": "execute_result",
          "data": {
            "text/plain": [
              "Text(0.5, 1.0, 'Señal de audio recortada')"
            ]
          },
          "metadata": {},
          "execution_count": 101
        },
        {
          "output_type": "display_data",
          "data": {
            "text/plain": [
              "<Figure size 432x288 with 1 Axes>"
            ],
            "image/png": "[encoded data removed]"
          },
          "metadata": {
            "needs_background": "light"
          }
        },
        {
          "output_type": "display_data",
          "data": {
            "text/plain": [
              "<Figure size 432x288 with 1 Axes>"
            ],
            "image/png": "[encoded data removed]"
          },
          "metadata": {
            "needs_background": "light"
          }
        }
      ]
    },
    {
      "cell_type": "code",
      "source": [
        "#Esta celda se corre solo para llenar el dataset con los features\n",
        "#no es necesario correrlo porque demora en cargar los datos\n",
        "#en la primera corrida se guardo en un csv\n",
        "def crear_datasets_caracteristicas_audio(path, erase_silence= False):\n",
        "  X = []\n",
        "  Y = []\n",
        "  i= 0\n",
        "  for root, dirs, files in os.walk(path):\n",
        "      for file in files:\n",
        "        if 'Enojo' in file:\n",
        "          animo = \"enojo\"\n",
        "        if 'Feliz' in file:\n",
        "          animo = \"feliz\"\n",
        "        if 'Triste' in file:\n",
        "          animo = \"triste\"\n",
        "        Y.append(animo)\n",
        "        full_path = os.path.join(root, file)\n",
        "        audio, sample_rate = librosa.load(full_path)\n",
        "        if erase_silence:\n",
        "          audio = eliminar_silencio(audio, sample_rate)\n",
        "        row = extraer_caracteristicas(audio)\n",
        "        X.append(row)\n",
        "  df = pd.DataFrame(X)\n",
        "  df['Animo'] = Y\n",
        "  return df\n",
        "\n",
        "dataset_bruto = crear_datasets_caracteristicas_audio(dir_audios)\n",
        "#dataset_sin_silencio = crear_datasets_caracteristicas_audio(dir_audios, True)"
      ],
      "metadata": {
        "id": "3o418DXMZrAV"
      },
      "execution_count": null,
      "outputs": []
    },
    {
      "cell_type": "code",
      "source": [
        "dataset_bruto"
      ],
      "metadata": {
        "colab": {
          "base_uri": "https://localhost:8080/",
          "height": 488
        },
        "id": "Fnp0txVV_B-c",
        "outputId": "5153dc41-6e9a-4265-8a03-ab63f5f8c623"
      },
      "execution_count": null,
      "outputs": [
        {
          "output_type": "execute_result",
          "data": {
            "text/plain": [
              "              0          1         2          3         4          5  \\\n",
              "0   -500.330536  33.001232  2.331309  60.710155  0.683774  22.785206   \n",
              "1   -447.073730  21.206549  0.804328  51.679253  2.310961  16.775400   \n",
              "2   -381.870605  46.346684 -9.333334  45.731392 -1.279546  14.217352   \n",
              "3   -473.631287  16.170135  0.809467  55.398594  2.881680  19.169958   \n",
              "4   -404.430695  19.811058 -6.297826  43.863605  1.050614  19.805326   \n",
              "..          ...        ...       ...        ...       ...        ...   \n",
              "295 -474.224884  32.300976 -0.117499  63.702236  0.430693  22.235199   \n",
              "296 -509.405975  14.747906  5.644672  61.054810  2.425495  23.484835   \n",
              "297 -428.259521  23.361744  0.082939  57.460873  1.845805  18.540766   \n",
              "298 -478.475494  22.582685 -3.096385  65.352486 -0.007560  23.121386   \n",
              "299 -402.779266  30.197115 -4.534485  59.265495  3.354048  13.231269   \n",
              "\n",
              "             6          7          8          9  ...       157       158  \\\n",
              "0     9.769106   5.271969  10.536577   8.534635  ...  0.711508  0.725781   \n",
              "1     8.367042   4.960811   8.557352   9.482676  ...  0.690134  0.706787   \n",
              "2     0.466353   1.555971   6.410751   7.772215  ...  0.634036  0.655331   \n",
              "3    12.577162   3.467429  11.605652   8.515680  ...  0.716640  0.725409   \n",
              "4     1.902076   7.284824   1.757556  11.231914  ...  0.738933  0.758029   \n",
              "..         ...        ...        ...        ...  ...       ...       ...   \n",
              "295   6.965478   8.241302   6.546723   8.522129  ...  0.716266  0.729147   \n",
              "296  13.766784  10.192158   9.141727  11.292126  ...  0.702845  0.681150   \n",
              "297   5.233206   6.881808   5.236468   7.780406  ...  0.658281  0.697498   \n",
              "298   7.824754  11.815963   8.161368   9.833322  ...  0.704678  0.703486   \n",
              "299   3.721544   4.708738   4.377273   6.527256  ...  0.632391  0.607754   \n",
              "\n",
              "          159       160       161       162         163         164  \\\n",
              "0    0.792770  0.798628  0.812787  0.350133   36.656708  151.999081   \n",
              "1    0.732618  0.838668  0.885738  0.382813  336.320892   92.285156   \n",
              "2    0.726373  0.806263  0.841448  1.285564   62.510944  112.347147   \n",
              "3    0.743763  0.857657  0.876236  0.304356  268.141388  198.768029   \n",
              "4    0.810593  0.886292  0.847792  0.652521  119.686096   89.102909   \n",
              "..        ...       ...       ...       ...         ...         ...   \n",
              "295  0.737886  0.759588  0.841145  0.828200   16.453623  143.554688   \n",
              "296  0.715723  0.767189  0.872169  0.151642   39.657108  135.999178   \n",
              "297  0.746587  0.819365  0.885014  1.025391   36.194992  143.554688   \n",
              "298  0.718551  0.752064  0.796887  0.594019   22.906616  143.554688   \n",
              "299  0.671879  0.685428  0.758221  1.345825   36.853344  161.499023   \n",
              "\n",
              "             165   Animo  \n",
              "0    3032.569461  triste  \n",
              "1    3411.188331   feliz  \n",
              "2    3096.995623  triste  \n",
              "3    3346.222153   feliz  \n",
              "4    3724.152056   enojo  \n",
              "..           ...     ...  \n",
              "295  3036.147380  triste  \n",
              "296  3445.951053   enojo  \n",
              "297  3283.930748   enojo  \n",
              "298  3232.658229  triste  \n",
              "299  3063.995551  triste  \n",
              "\n",
              "[300 rows x 167 columns]"
            ],
            "text/html": [
              "\n",
              "  <div id=\"df-c316c5ee-60c8-4a0a-a66a-dfae85f2bb6a\">\n",
              "    <div class=\"colab-df-container\">\n",
              "      <div>\n",
              "<style scoped>\n",
              "    .dataframe tbody tr th:only-of-type {\n",
              "        vertical-align: middle;\n",
              "    }\n",
              "\n",
              "    .dataframe tbody tr th {\n",
              "        vertical-align: top;\n",
              "    }\n",
              "\n",
              "    .dataframe thead th {\n",
              "        text-align: right;\n",
              "    }\n",
              "</style>\n",
              "<table border=\"1\" class=\"dataframe\">\n",
              "  <thead>\n",
              "    <tr style=\"text-align: right;\">\n",
              "      <th></th>\n",
              "      <th>0</th>\n",
              "      <th>1</th>\n",
              "      <th>2</th>\n",
              "      <th>3</th>\n",
              "      <th>4</th>\n",
              "      <th>5</th>\n",
              "      <th>6</th>\n",
              "      <th>7</th>\n",
              "      <th>8</th>\n",
              "      <th>9</th>\n",
              "      <th>...</th>\n",
              "      <th>157</th>\n",
              "      <th>158</th>\n",
              "      <th>159</th>\n",
              "      <th>160</th>\n",
              "      <th>161</th>\n",
              "      <th>162</th>\n",
              "      <th>163</th>\n",
              "      <th>164</th>\n",
              "      <th>165</th>\n",
              "      <th>Animo</th>\n",
              "    </tr>\n",
              "  </thead>\n",
              "  <tbody>\n",
              "    <tr>\n",
              "      <th>0</th>\n",
              "      <td>-500.330536</td>\n",
              "      <td>33.001232</td>\n",
              "      <td>2.331309</td>\n",
              "      <td>60.710155</td>\n",
              "      <td>0.683774</td>\n",
              "      <td>22.785206</td>\n",
              "      <td>9.769106</td>\n",
              "      <td>5.271969</td>\n",
              "      <td>10.536577</td>\n",
              "      <td>8.534635</td>\n",
              "      <td>...</td>\n",
              "      <td>0.711508</td>\n",
              "      <td>0.725781</td>\n",
              "      <td>0.792770</td>\n",
              "      <td>0.798628</td>\n",
              "      <td>0.812787</td>\n",
              "      <td>0.350133</td>\n",
              "      <td>36.656708</td>\n",
              "      <td>151.999081</td>\n",
              "      <td>3032.569461</td>\n",
              "      <td>triste</td>\n",
              "    </tr>\n",
              "    <tr>\n",
              "      <th>1</th>\n",
              "      <td>-447.073730</td>\n",
              "      <td>21.206549</td>\n",
              "      <td>0.804328</td>\n",
              "      <td>51.679253</td>\n",
              "      <td>2.310961</td>\n",
              "      <td>16.775400</td>\n",
              "      <td>8.367042</td>\n",
              "      <td>4.960811</td>\n",
              "      <td>8.557352</td>\n",
              "      <td>9.482676</td>\n",
              "      <td>...</td>\n",
              "      <td>0.690134</td>\n",
              "      <td>0.706787</td>\n",
              "      <td>0.732618</td>\n",
              "      <td>0.838668</td>\n",
              "      <td>0.885738</td>\n",
              "      <td>0.382813</td>\n",
              "      <td>336.320892</td>\n",
              "      <td>92.285156</td>\n",
              "      <td>3411.188331</td>\n",
              "      <td>feliz</td>\n",
              "    </tr>\n",
              "    <tr>\n",
              "      <th>2</th>\n",
              "      <td>-381.870605</td>\n",
              "      <td>46.346684</td>\n",
              "      <td>-9.333334</td>\n",
              "      <td>45.731392</td>\n",
              "      <td>-1.279546</td>\n",
              "      <td>14.217352</td>\n",
              "      <td>0.466353</td>\n",
              "      <td>1.555971</td>\n",
              "      <td>6.410751</td>\n",
              "      <td>7.772215</td>\n",
              "      <td>...</td>\n",
              "      <td>0.634036</td>\n",
              "      <td>0.655331</td>\n",
              "      <td>0.726373</td>\n",
              "      <td>0.806263</td>\n",
              "      <td>0.841448</td>\n",
              "      <td>1.285564</td>\n",
              "      <td>62.510944</td>\n",
              "      <td>112.347147</td>\n",
              "      <td>3096.995623</td>\n",
              "      <td>triste</td>\n",
              "    </tr>\n",
              "    <tr>\n",
              "      <th>3</th>\n",
              "      <td>-473.631287</td>\n",
              "      <td>16.170135</td>\n",
              "      <td>0.809467</td>\n",
              "      <td>55.398594</td>\n",
              "      <td>2.881680</td>\n",
              "      <td>19.169958</td>\n",
              "      <td>12.577162</td>\n",
              "      <td>3.467429</td>\n",
              "      <td>11.605652</td>\n",
              "      <td>8.515680</td>\n",
              "      <td>...</td>\n",
              "      <td>0.716640</td>\n",
              "      <td>0.725409</td>\n",
              "      <td>0.743763</td>\n",
              "      <td>0.857657</td>\n",
              "      <td>0.876236</td>\n",
              "      <td>0.304356</td>\n",
              "      <td>268.141388</td>\n",
              "      <td>198.768029</td>\n",
              "      <td>3346.222153</td>\n",
              "      <td>feliz</td>\n",
              "    </tr>\n",
              "    <tr>\n",
              "      <th>4</th>\n",
              "      <td>-404.430695</td>\n",
              "      <td>19.811058</td>\n",
              "      <td>-6.297826</td>\n",
              "      <td>43.863605</td>\n",
              "      <td>1.050614</td>\n",
              "      <td>19.805326</td>\n",
              "      <td>1.902076</td>\n",
              "      <td>7.284824</td>\n",
              "      <td>1.757556</td>\n",
              "      <td>11.231914</td>\n",
              "      <td>...</td>\n",
              "      <td>0.738933</td>\n",
              "      <td>0.758029</td>\n",
              "      <td>0.810593</td>\n",
              "      <td>0.886292</td>\n",
              "      <td>0.847792</td>\n",
              "      <td>0.652521</td>\n",
              "      <td>119.686096</td>\n",
              "      <td>89.102909</td>\n",
              "      <td>3724.152056</td>\n",
              "      <td>enojo</td>\n",
              "    </tr>\n",
              "    <tr>\n",
              "      <th>...</th>\n",
              "      <td>...</td>\n",
              "      <td>...</td>\n",
              "      <td>...</td>\n",
              "      <td>...</td>\n",
              "      <td>...</td>\n",
              "      <td>...</td>\n",
              "      <td>...</td>\n",
              "      <td>...</td>\n",
              "      <td>...</td>\n",
              "      <td>...</td>\n",
              "      <td>...</td>\n",
              "      <td>...</td>\n",
              "      <td>...</td>\n",
              "      <td>...</td>\n",
              "      <td>...</td>\n",
              "      <td>...</td>\n",
              "      <td>...</td>\n",
              "      <td>...</td>\n",
              "      <td>...</td>\n",
              "      <td>...</td>\n",
              "      <td>...</td>\n",
              "    </tr>\n",
              "    <tr>\n",
              "      <th>295</th>\n",
              "      <td>-474.224884</td>\n",
              "      <td>32.300976</td>\n",
              "      <td>-0.117499</td>\n",
              "      <td>63.702236</td>\n",
              "      <td>0.430693</td>\n",
              "      <td>22.235199</td>\n",
              "      <td>6.965478</td>\n",
              "      <td>8.241302</td>\n",
              "      <td>6.546723</td>\n",
              "      <td>8.522129</td>\n",
              "      <td>...</td>\n",
              "      <td>0.716266</td>\n",
              "      <td>0.729147</td>\n",
              "      <td>0.737886</td>\n",
              "      <td>0.759588</td>\n",
              "      <td>0.841145</td>\n",
              "      <td>0.828200</td>\n",
              "      <td>16.453623</td>\n",
              "      <td>143.554688</td>\n",
              "      <td>3036.147380</td>\n",
              "      <td>triste</td>\n",
              "    </tr>\n",
              "    <tr>\n",
              "      <th>296</th>\n",
              "      <td>-509.405975</td>\n",
              "      <td>14.747906</td>\n",
              "      <td>5.644672</td>\n",
              "      <td>61.054810</td>\n",
              "      <td>2.425495</td>\n",
              "      <td>23.484835</td>\n",
              "      <td>13.766784</td>\n",
              "      <td>10.192158</td>\n",
              "      <td>9.141727</td>\n",
              "      <td>11.292126</td>\n",
              "      <td>...</td>\n",
              "      <td>0.702845</td>\n",
              "      <td>0.681150</td>\n",
              "      <td>0.715723</td>\n",
              "      <td>0.767189</td>\n",
              "      <td>0.872169</td>\n",
              "      <td>0.151642</td>\n",
              "      <td>39.657108</td>\n",
              "      <td>135.999178</td>\n",
              "      <td>3445.951053</td>\n",
              "      <td>enojo</td>\n",
              "    </tr>\n",
              "    <tr>\n",
              "      <th>297</th>\n",
              "      <td>-428.259521</td>\n",
              "      <td>23.361744</td>\n",
              "      <td>0.082939</td>\n",
              "      <td>57.460873</td>\n",
              "      <td>1.845805</td>\n",
              "      <td>18.540766</td>\n",
              "      <td>5.233206</td>\n",
              "      <td>6.881808</td>\n",
              "      <td>5.236468</td>\n",
              "      <td>7.780406</td>\n",
              "      <td>...</td>\n",
              "      <td>0.658281</td>\n",
              "      <td>0.697498</td>\n",
              "      <td>0.746587</td>\n",
              "      <td>0.819365</td>\n",
              "      <td>0.885014</td>\n",
              "      <td>1.025391</td>\n",
              "      <td>36.194992</td>\n",
              "      <td>143.554688</td>\n",
              "      <td>3283.930748</td>\n",
              "      <td>enojo</td>\n",
              "    </tr>\n",
              "    <tr>\n",
              "      <th>298</th>\n",
              "      <td>-478.475494</td>\n",
              "      <td>22.582685</td>\n",
              "      <td>-3.096385</td>\n",
              "      <td>65.352486</td>\n",
              "      <td>-0.007560</td>\n",
              "      <td>23.121386</td>\n",
              "      <td>7.824754</td>\n",
              "      <td>11.815963</td>\n",
              "      <td>8.161368</td>\n",
              "      <td>9.833322</td>\n",
              "      <td>...</td>\n",
              "      <td>0.704678</td>\n",
              "      <td>0.703486</td>\n",
              "      <td>0.718551</td>\n",
              "      <td>0.752064</td>\n",
              "      <td>0.796887</td>\n",
              "      <td>0.594019</td>\n",
              "      <td>22.906616</td>\n",
              "      <td>143.554688</td>\n",
              "      <td>3232.658229</td>\n",
              "      <td>triste</td>\n",
              "    </tr>\n",
              "    <tr>\n",
              "      <th>299</th>\n",
              "      <td>-402.779266</td>\n",
              "      <td>30.197115</td>\n",
              "      <td>-4.534485</td>\n",
              "      <td>59.265495</td>\n",
              "      <td>3.354048</td>\n",
              "      <td>13.231269</td>\n",
              "      <td>3.721544</td>\n",
              "      <td>4.708738</td>\n",
              "      <td>4.377273</td>\n",
              "      <td>6.527256</td>\n",
              "      <td>...</td>\n",
              "      <td>0.632391</td>\n",
              "      <td>0.607754</td>\n",
              "      <td>0.671879</td>\n",
              "      <td>0.685428</td>\n",
              "      <td>0.758221</td>\n",
              "      <td>1.345825</td>\n",
              "      <td>36.853344</td>\n",
              "      <td>161.499023</td>\n",
              "      <td>3063.995551</td>\n",
              "      <td>triste</td>\n",
              "    </tr>\n",
              "  </tbody>\n",
              "</table>\n",
              "<p>300 rows × 167 columns</p>\n",
              "</div>\n",
              "      <button class=\"colab-df-convert\" onclick=\"convertToInteractive('df-c316c5ee-60c8-4a0a-a66a-dfae85f2bb6a')\"\n",
              "              title=\"Convert this dataframe to an interactive table.\"\n",
              "              style=\"display:none;\">\n",
              "        \n",
              "  <svg xmlns=\"http://www.w3.org/2000/svg\" height=\"24px\"viewBox=\"0 0 24 24\"\n",
              "       width=\"24px\">\n",
              "    <path d=\"M0 0h24v24H0V0z\" fill=\"none\"/>\n",
              "    <path d=\"M18.56 5.44l.94 2.06.94-2.06 2.06-.94-2.06-.94-.94-2.06-.94 2.06-2.06.94zm-11 1L8.5 8.5l.94-2.06 2.06-.94-2.06-.94L8.5 2.5l-.94 2.06-2.06.94zm10 10l.94 2.06.94-2.06 2.06-.94-2.06-.94-.94-2.06-.94 2.06-2.06.94z\"/><path d=\"M17.41 7.96l-1.37-1.37c-.4-.4-.92-.59-1.43-.59-.52 0-1.04.2-1.43.59L10.3 9.45l-7.72 7.72c-.78.78-.78 2.05 0 2.83L4 21.41c.39.39.9.59 1.41.59.51 0 1.02-.2 1.41-.59l7.78-7.78 2.81-2.81c.8-.78.8-2.07 0-2.86zM5.41 20L4 18.59l7.72-7.72 1.47 1.35L5.41 20z\"/>\n",
              "  </svg>\n",
              "      </button>\n",
              "      \n",
              "  <style>\n",
              "    .colab-df-container {\n",
              "      display:flex;\n",
              "      flex-wrap:wrap;\n",
              "      gap: 12px;\n",
              "    }\n",
              "\n",
              "    .colab-df-convert {\n",
              "      background-color: #E8F0FE;\n",
              "      border: none;\n",
              "      border-radius: 50%;\n",
              "      cursor: pointer;\n",
              "      display: none;\n",
              "      fill: #1967D2;\n",
              "      height: 32px;\n",
              "      padding: 0 0 0 0;\n",
              "      width: 32px;\n",
              "    }\n",
              "\n",
              "    .colab-df-convert:hover {\n",
              "      background-color: #E2EBFA;\n",
              "      box-shadow: 0px 1px 2px rgba(60, 64, 67, 0.3), 0px 1px 3px 1px rgba(60, 64, 67, 0.15);\n",
              "      fill: #174EA6;\n",
              "    }\n",
              "\n",
              "    [theme=dark] .colab-df-convert {\n",
              "      background-color: #3B4455;\n",
              "      fill: #D2E3FC;\n",
              "    }\n",
              "\n",
              "    [theme=dark] .colab-df-convert:hover {\n",
              "      background-color: #434B5C;\n",
              "      box-shadow: 0px 1px 3px 1px rgba(0, 0, 0, 0.15);\n",
              "      filter: drop-shadow(0px 1px 2px rgba(0, 0, 0, 0.3));\n",
              "      fill: #FFFFFF;\n",
              "    }\n",
              "  </style>\n",
              "\n",
              "      <script>\n",
              "        const buttonEl =\n",
              "          document.querySelector('#df-c316c5ee-60c8-4a0a-a66a-dfae85f2bb6a button.colab-df-convert');\n",
              "        buttonEl.style.display =\n",
              "          google.colab.kernel.accessAllowed ? 'block' : 'none';\n",
              "\n",
              "        async function convertToInteractive(key) {\n",
              "          const element = document.querySelector('#df-c316c5ee-60c8-4a0a-a66a-dfae85f2bb6a');\n",
              "          const dataTable =\n",
              "            await google.colab.kernel.invokeFunction('convertToInteractive',\n",
              "                                                     [key], {});\n",
              "          if (!dataTable) return;\n",
              "\n",
              "          const docLinkHtml = 'Like what you see? Visit the ' +\n",
              "            '<a target=\"_blank\" href=https://colab.research.google.com/notebooks/data_table.ipynb>data table notebook</a>'\n",
              "            + ' to learn more about interactive tables.';\n",
              "          element.innerHTML = '';\n",
              "          dataTable['output_type'] = 'display_data';\n",
              "          await google.colab.output.renderOutput(dataTable, element);\n",
              "          const docLink = document.createElement('div');\n",
              "          docLink.innerHTML = docLinkHtml;\n",
              "          element.appendChild(docLink);\n",
              "        }\n",
              "      </script>\n",
              "    </div>\n",
              "  </div>\n",
              "  "
            ]
          },
          "metadata": {},
          "execution_count": 159
        }
      ]
    },
    {
      "cell_type": "code",
      "source": [
        "#guardo el dataset para no tener que correr el codigo cada vez que necesite sino cargarlo\n",
        "dataset_bruto.to_csv('/content/drive/My Drive/Ciencia de datos/dataset_entero.csv', index=False)\n",
        "#dataset_sin_silencio.to_csv('/content/drive/My Drive/Ciencia de datos/dataset_sin_silencio.csv', index=False)"
      ],
      "metadata": {
        "id": "HqsB3E0LDvkx"
      },
      "execution_count": null,
      "outputs": []
    },
    {
      "cell_type": "code",
      "source": [
        "dataset_bruto = pd.read_csv('/content/drive/My Drive/Ciencia de datos/dataset_entero.csv', index=False)\n",
        "#dataset_bruto = pd.read_csv('/content/drive/My Drive/Ciencia de datos/dataset_sin_silencio.csv', index=False)"
      ],
      "metadata": {
        "id": "-eA9QHsMJ0PW"
      },
      "execution_count": null,
      "outputs": []
    },
    {
      "cell_type": "code",
      "source": [
        "def extrayendo_train_test(dataset): \n",
        "  #Separando datos de entrenamiento y de prueba\n",
        "  #dataset  = pd.read_csv('/content/drive/My Drive/Ciencia de datos/dataset_con_silencios.csv')\n",
        "  X = dataset.iloc[: ,:-1].values\n",
        "  Y = dataset['Animo'].values\n",
        "  x_train, x_test, y_train, y_test = train_test_split(X, Y, test_size=0.2)\n",
        "  return x_train, x_test, y_train, y_test\n",
        "\n",
        "#Normalizando los datos con estandar escaler\n",
        "def crear_standar_scaler( x_train):\n",
        "  scaler = StandardScaler()\n",
        "  x_train = scaler.fit_transform(x_train)\n",
        "  return x_train,scaler\n",
        "\n",
        "x_train, x_test, y_train, y_test = extrayendo_train_test(dataset_bruto)\n",
        "#x_train, x_test, y_train, y_test = extrayendo_train_test(dataset_sin_silencio)\n",
        "\n",
        "#Se crea un standar scaler que tambien se utilizara en la etapa de validacion externa\n",
        "#con los datos recogidos\n",
        "x_train,scaler = crear_standar_scaler(x_train)\n",
        "x_test = scaler.transform(x_test)\n",
        "\n",
        "x_train.shape, y_train.shape, x_test.shape, y_test.shape"
      ],
      "metadata": {
        "colab": {
          "base_uri": "https://localhost:8080/"
        },
        "id": "_VPWH-VQ8v1_",
        "outputId": "75e06181-0425-4396-a2a3-a79790620398"
      },
      "execution_count": null,
      "outputs": [
        {
          "output_type": "execute_result",
          "data": {
            "text/plain": [
              "((240, 166), (240,), (60, 166), (60,))"
            ]
          },
          "metadata": {},
          "execution_count": 261
        }
      ]
    },
    {
      "cell_type": "markdown",
      "source": [
        "#Clasificacion usando algoritmos de machine learning #"
      ],
      "metadata": {
        "id": "w1v8osZXE-16"
      }
    },
    {
      "cell_type": "code",
      "source": [
        "#Definiendo presentacion de resultados de clasificacion\n",
        "#Accuaracy, matriz de confusion y reporte de clasificacion\n",
        "def resultados_clasificador(x_test, y_test, clf, name_clf, y_pred_clf):\n",
        "  score_clf = clf.score(x_test,y_test)\n",
        "  print(name_clf)\n",
        "  print(\"------------------\")\n",
        "  print(f'El accuaracy para {name_clf} es de {round(score_clf, ndigits = 3)*100}%')\n",
        "  print(\"\\n\")\n",
        "\n",
        "  cm = confusion_matrix(y_test, y_pred_clf)\n",
        "  plt.figure(figsize = (10, 10))\n",
        "  sns.heatmap(cm, linecolor='white', cmap='Reds', linewidth=2, annot=True, fmt='')\n",
        "  plt.title(name_clf, size=15)\n",
        "  plt.xlabel('Predicted Labels', size=10)\n",
        "  plt.ylabel('Actual Labels', size=10)\n",
        "  plt.show()\n",
        "\n",
        "  print(\"\\n\")\n",
        "  clf_report = classification_report(y_test, y_pred_clf)\n",
        "  print(clf_report)\n",
        "  return score_clf"
      ],
      "metadata": {
        "id": "4F75o1VXgktQ"
      },
      "execution_count": null,
      "outputs": []
    },
    {
      "cell_type": "code",
      "source": [
        "\n",
        "#creando clasificador\n",
        "svm_m = svm.SVC(kernel='linear', C=1)\n",
        "\n",
        "#Entrenar al clasificador\n",
        "svm_m.fit(x_train, y_train)\n",
        "\n",
        "# Realizar predicciones en los datos de prueba\n",
        "y_pred_svm = svm_m.predict(x_test)\n",
        "\n",
        "#Imprimir Accuracy, matriz de confusion\n",
        "score_svm = resultados_clasificador(x_test, y_test, svm_m, \"SVM\", y_pred_svm)"
      ],
      "metadata": {
        "colab": {
          "base_uri": "https://localhost:8080/",
          "height": 918
        },
        "id": "DaEYD3gkEJCX",
        "outputId": "7e334ea2-ca2f-4314-89d6-642935859ea3"
      },
      "execution_count": null,
      "outputs": [
        {
          "output_type": "stream",
          "name": "stdout",
          "text": [
            "SVM\n",
            "------------------\n",
            "El accuaracy para SVM es de 51.7%\n",
            "\n",
            "\n"
          ]
        },
        {
          "output_type": "display_data",
          "data": {
            "text/plain": [
              "<Figure size 720x720 with 2 Axes>"
            ],
            "image/png": "[encoded data removed]"
          },
          "metadata": {
            "needs_background": "light"
          }
        },
        {
          "output_type": "stream",
          "name": "stdout",
          "text": [
            "\n",
            "\n",
            "              precision    recall  f1-score   support\n",
            "\n",
            "       enojo       0.50      0.60      0.55        15\n",
            "       feliz       0.65      0.44      0.52        25\n",
            "      triste       0.44      0.55      0.49        20\n",
            "\n",
            "    accuracy                           0.52        60\n",
            "   macro avg       0.53      0.53      0.52        60\n",
            "weighted avg       0.54      0.52      0.52        60\n",
            "\n"
          ]
        }
      ]
    },
    {
      "cell_type": "code",
      "source": [
        "#creando clasificador\n",
        "knn = KNeighborsClassifier()\n",
        "\n",
        "#entrenando clasificador\n",
        "knn.fit(x_train,y_train)\n",
        "\n",
        "#haciendo prediccion\n",
        "y_pred_knn = knn.predict(x_test)\n",
        "\n",
        "score_knn = resultados_clasificador( x_test, y_test, knn, \"KNN\", y_pred_knn)"
      ],
      "metadata": {
        "colab": {
          "base_uri": "https://localhost:8080/",
          "height": 918
        },
        "id": "GRlMk_jbH0yZ",
        "outputId": "c2d75d1c-4c77-4ab7-dd3a-485eb57f9da5"
      },
      "execution_count": null,
      "outputs": [
        {
          "output_type": "stream",
          "name": "stdout",
          "text": [
            "KNN\n",
            "------------------\n",
            "El accuaracy para KNN es de 58.3%\n",
            "\n",
            "\n"
          ]
        },
        {
          "output_type": "display_data",
          "data": {
            "text/plain": [
              "<Figure size 720x720 with 2 Axes>"
            ],
            "image/png": "[encoded data removed]"
          },
          "metadata": {
            "needs_background": "light"
          }
        },
        {
          "output_type": "stream",
          "name": "stdout",
          "text": [
            "\n",
            "\n",
            "              precision    recall  f1-score   support\n",
            "\n",
            "       enojo       0.50      0.67      0.57        15\n",
            "       feliz       0.70      0.56      0.62        25\n",
            "      triste       0.55      0.55      0.55        20\n",
            "\n",
            "    accuracy                           0.58        60\n",
            "   macro avg       0.58      0.59      0.58        60\n",
            "weighted avg       0.60      0.58      0.59        60\n",
            "\n"
          ]
        }
      ]
    },
    {
      "cell_type": "code",
      "source": [
        " #creando clasificador\n",
        "dt = DecisionTreeClassifier()\n",
        "\n",
        "#entrenando clasificador\n",
        "dt.fit(x_train,y_train)\n",
        "\n",
        "#haciendo prediccion\n",
        "y_pred_dt = dt.predict(x_test)\n",
        "\n",
        "score_dt = resultados_clasificador( x_test, y_test, dt, \"Decision Tree\", y_pred_dt)"
      ],
      "metadata": {
        "colab": {
          "base_uri": "https://localhost:8080/",
          "height": 918
        },
        "id": "d6Vq9cifJVVN",
        "outputId": "abe2bf67-d44b-4995-8e2f-1b9b7f22da9a"
      },
      "execution_count": null,
      "outputs": [
        {
          "output_type": "stream",
          "name": "stdout",
          "text": [
            "Decision Tree\n",
            "------------------\n",
            "El accuaracy para Decision Tree es de 50.0%\n",
            "\n",
            "\n"
          ]
        },
        {
          "output_type": "display_data",
          "data": {
            "text/plain": [
              "<Figure size 720x720 with 2 Axes>"
            ],
            "image/png": "[encoded data removed]"
          },
          "metadata": {
            "needs_background": "light"
          }
        },
        {
          "output_type": "stream",
          "name": "stdout",
          "text": [
            "\n",
            "\n",
            "              precision    recall  f1-score   support\n",
            "\n",
            "       enojo       0.41      0.47      0.44        15\n",
            "       feliz       0.61      0.56      0.58        25\n",
            "      triste       0.45      0.45      0.45        20\n",
            "\n",
            "    accuracy                           0.50        60\n",
            "   macro avg       0.49      0.49      0.49        60\n",
            "weighted avg       0.51      0.50      0.50        60\n",
            "\n"
          ]
        }
      ]
    },
    {
      "cell_type": "code",
      "source": [
        " #creando clasificador\n",
        "rf = RandomForestClassifier(n_estimators=10, criterion='entropy', random_state=42)\n",
        "\n",
        "#entrenando clasificador\n",
        "rf.fit(x_train,y_train)\n",
        "\n",
        "#haciendo prediccion\n",
        "y_pred_rf = rf.predict(x_test)\n",
        "\n",
        "score_rf = resultados_clasificador( x_test, y_test, rf, \"Random Forest\", y_pred_rf)"
      ],
      "metadata": {
        "colab": {
          "base_uri": "https://localhost:8080/",
          "height": 918
        },
        "id": "o3gmT2Qnk5Bu",
        "outputId": "27b63a50-5693-463f-f38d-1ed66e562d62"
      },
      "execution_count": null,
      "outputs": [
        {
          "output_type": "stream",
          "name": "stdout",
          "text": [
            "Random Forest\n",
            "------------------\n",
            "El accuaracy para Random Forest es de 65.0%\n",
            "\n",
            "\n"
          ]
        },
        {
          "output_type": "display_data",
          "data": {
            "text/plain": [
              "<Figure size 720x720 with 2 Axes>"
            ],
            "image/png": "[encoded data removed]"
          },
          "metadata": {
            "needs_background": "light"
          }
        },
        {
          "output_type": "stream",
          "name": "stdout",
          "text": [
            "\n",
            "\n",
            "              precision    recall  f1-score   support\n",
            "\n",
            "       enojo       0.77      0.67      0.71        15\n",
            "       feliz       0.61      0.76      0.68        25\n",
            "      triste       0.62      0.50      0.56        20\n",
            "\n",
            "    accuracy                           0.65        60\n",
            "   macro avg       0.67      0.64      0.65        60\n",
            "weighted avg       0.66      0.65      0.65        60\n",
            "\n"
          ]
        }
      ]
    },
    {
      "cell_type": "markdown",
      "source": [
        "## Validacion cruzada ##"
      ],
      "metadata": {
        "id": "O3F1h1dyf5sN"
      }
    },
    {
      "cell_type": "code",
      "source": [
        "\n",
        "\n",
        "#Se van a utilizar todos los datos para realizar validacion cruzada\n",
        "X = dataset_bruto.iloc[: ,:-1].values\n",
        "Y = dataset_bruto['Animo'].values\n",
        "\n",
        "#X = dataset_sin_silencio.iloc[: ,:-1].values\n",
        "#Y = dataset_sin_silencio['Animo'].values\n",
        "\n",
        "scaler = StandardScaler()\n",
        "X = scaler.fit_transform(X)\n",
        "X.shape, Y.shape\n",
        "\n"
      ],
      "metadata": {
        "id": "M8H9xOM2Np-g",
        "colab": {
          "base_uri": "https://localhost:8080/"
        },
        "outputId": "d96d3e6c-6dad-420a-da14-2c5cc39282ee"
      },
      "execution_count": null,
      "outputs": [
        {
          "output_type": "execute_result",
          "data": {
            "text/plain": [
              "((300, 166), (300,))"
            ]
          },
          "metadata": {},
          "execution_count": 253
        }
      ]
    },
    {
      "cell_type": "code",
      "source": [
        "def validacion_cruzada(clf, clf_name, X_k , y_k):\n",
        "  \n",
        "  #se usa StratifiedKFlod para que los datos esten balanceados en cada division\n",
        "  sk_folds = StratifiedKFold(n_splits = 30)\n",
        "\n",
        "  scores = cross_val_score(clf, X_k, y_k, cv = sk_folds)\n",
        "  return scores.mean()\n",
        "\n",
        "score_list = []\n",
        "algo_list =  [\"SVM\",\"Decision Tree\",\"KNN\", \"Random Forest\"]\n",
        "\n",
        "svm_m_2 = svm.SVC(kernel='linear', C=1)\n",
        "score_list.append(validacion_cruzada(svm_m_2, \"SVM\", X , Y))\n",
        "\n",
        "dt_2    = DecisionTreeClassifier()\n",
        "score_list.append(validacion_cruzada(dt_2, \"Decision Tree\", X , Y))\n",
        "\n",
        "knn_2   = KNeighborsClassifier()\n",
        "score_list.append(validacion_cruzada(knn_2, \"KNN\", X , Y))\n",
        "\n",
        "rf_2 = RandomForestClassifier(n_estimators=10, criterion='entropy', random_state=42)\n",
        "score_list.append(validacion_cruzada(rf_2, \"Random Forest\", X , Y))\n",
        "\n",
        "x = np.arange(3)\n",
        "plt.bar( algo_list, score_list)\n",
        "plt.title(\"Accuaracy de los clasificadores segun validacion cruzada\")\n",
        "plt.show()\n",
        "print(score_list)"
      ],
      "metadata": {
        "colab": {
          "base_uri": "https://localhost:8080/",
          "height": 298
        },
        "id": "oCaoGLhGc6bU",
        "outputId": "3dc3c63f-4462-4542-bfd2-abb9e5c1a977"
      },
      "execution_count": null,
      "outputs": [
        {
          "output_type": "display_data",
          "data": {
            "text/plain": [
              "<Figure size 432x288 with 1 Axes>"
            ],
            "image/png": "[encoded data removed]"
          },
          "metadata": {
            "needs_background": "light"
          }
        },
        {
          "output_type": "stream",
          "name": "stdout",
          "text": [
            "[0.5166666666666666, 0.4566666666666668, 0.4433333333333333, 0.56]\n"
          ]
        }
      ]
    },
    {
      "cell_type": "markdown",
      "source": [
        "## Validadion externa ##"
      ],
      "metadata": {
        "id": "lCicihF893Qn"
      }
    },
    {
      "cell_type": "code",
      "source": [
        "#variables de prueba de la funcion convertir\n",
        "origen = '/content/drive/My Drive/Ciencia de datos/Datos de voz para test'\n",
        "destino = '/content/drive/My Drive/Ciencia de datos/Datos de voz para test wav'\n",
        "\n",
        "#convirtiendo audios recopilados ogg a wav\n",
        "def convertir_audios_ogg_wav(origen, destino):\n",
        "  i = 0 #para que no queden los mismos nombre\n",
        "  for root, dirs, files in os.walk(origen):  \n",
        "      for file in files:\n",
        "        full_path = os.path.join(root, file)\n",
        "        if 'enoj' in full_path:\n",
        "          nombre = \"Enojo\"\n",
        "        if 'feliz' in full_path:\n",
        "          nombre = \"Feliz\"\n",
        "        if 'triste' in full_path:\n",
        "          nombre = \"Triste\"\n",
        "        hablante =  os.path.basename(os.path.dirname(root))\n",
        "        audio = AudioSegment.from_ogg(full_path)\n",
        "        audio.export(destino +\"/\"+ nombre + \"_\" + hablante + str(i) + \".wav\", format=\"wav\")\n",
        "        i+=1    \n",
        "  return\n",
        "\n",
        "convertir_audios_ogg_wav(origen, destino)\n"
      ],
      "metadata": {
        "id": "53OYsVXHBqPs"
      },
      "execution_count": null,
      "outputs": []
    },
    {
      "cell_type": "code",
      "source": [
        "#extraer caracteristicas y guardar dataset\n",
        "dataset_test = crear_datasets_caracteristicas_audio(destino) \n",
        "dataset_test.to_csv('/content/drive/My Drive/Ciencia de datos/dataset_para_validacion.csv', index=False)\n",
        "#dataset_test_sin_silencio = crear_datasets_caracteristicas_audio(destino, True) \n",
        "#dataset_test_sin_silencio.to_csv('/content/drive/My Drive/Ciencia de datos/dataset_para_validacion_sin_silencio.csv', index=False)"
      ],
      "metadata": {
        "id": "lecV83vLSbvv"
      },
      "execution_count": null,
      "outputs": []
    },
    {
      "cell_type": "code",
      "source": [
        "dataset_test"
      ],
      "metadata": {
        "id": "ZVM7vhqsuEvL"
      },
      "execution_count": null,
      "outputs": []
    },
    {
      "cell_type": "code",
      "source": [
        "#separar en tarin test y normalizar caracteristicas\n",
        "x_test_v = dataset_test.iloc[: ,:-1].values\n",
        "y_test_v = dataset_test['Animo'].values\n",
        "#x_test_v = dataset_test_sin_silencio.iloc[: ,:-1].values\n",
        "#y_test_v = dataset_test_sin_silencio['Animo'].values\n",
        "\n",
        "\n",
        "#aplicar standar scaler porque los modelos se entrenaron con datos normalizados\n",
        "x_test_v = scaler.transform(x_test_v)\n",
        "\n",
        "#usar modelos para clasificar \n",
        "y_pred_svm = svm_m.predict(x_test_v)\n",
        "resultados_clasificador(x_test_v, y_test_v, svm_m, \"SVM\", y_pred_svm)\n",
        "\n"
      ],
      "metadata": {
        "colab": {
          "base_uri": "https://localhost:8080/",
          "height": 935
        },
        "id": "SJ5CM5nwnkkl",
        "outputId": "8eabcaa4-dd44-4100-e43b-7ccd14391375"
      },
      "execution_count": null,
      "outputs": [
        {
          "output_type": "stream",
          "name": "stdout",
          "text": [
            "SVM\n",
            "------------------\n",
            "El accuaracy para SVM es de 46.7%\n",
            "\n",
            "\n"
          ]
        },
        {
          "output_type": "display_data",
          "data": {
            "text/plain": [
              "<Figure size 720x720 with 2 Axes>"
            ],
            "image/png": "[encoded data removed]"
          },
          "metadata": {
            "needs_background": "light"
          }
        },
        {
          "output_type": "stream",
          "name": "stdout",
          "text": [
            "\n",
            "\n",
            "              precision    recall  f1-score   support\n",
            "\n",
            "       enojo       0.60      0.20      0.30        15\n",
            "       feliz       0.37      0.47      0.41        15\n",
            "      triste       0.52      0.73      0.61        15\n",
            "\n",
            "    accuracy                           0.47        45\n",
            "   macro avg       0.50      0.47      0.44        45\n",
            "weighted avg       0.50      0.47      0.44        45\n",
            "\n"
          ]
        },
        {
          "output_type": "execute_result",
          "data": {
            "text/plain": [
              "0.4666666666666667"
            ]
          },
          "metadata": {},
          "execution_count": 266
        }
      ]
    },
    {
      "cell_type": "code",
      "source": [
        "y_pred_dt = dt.predict(x_test_v)\n",
        "resultados_clasificador( x_test_v, y_test_v, dt, \"Decision Tree\", y_pred_dt)"
      ],
      "metadata": {
        "colab": {
          "base_uri": "https://localhost:8080/",
          "height": 935
        },
        "id": "Ui2jBeZCKYF1",
        "outputId": "58a1dd91-1a1a-401e-f97a-b991700866b5"
      },
      "execution_count": null,
      "outputs": [
        {
          "output_type": "stream",
          "name": "stdout",
          "text": [
            "Decision Tree\n",
            "------------------\n",
            "El accuaracy para Decision Tree es de 26.700000000000003%\n",
            "\n",
            "\n"
          ]
        },
        {
          "output_type": "display_data",
          "data": {
            "text/plain": [
              "<Figure size 720x720 with 2 Axes>"
            ],
            "image/png": "[encoded data removed]"
          },
          "metadata": {
            "needs_background": "light"
          }
        },
        {
          "output_type": "stream",
          "name": "stdout",
          "text": [
            "\n",
            "\n",
            "              precision    recall  f1-score   support\n",
            "\n",
            "       enojo       0.00      0.00      0.00        15\n",
            "       feliz       0.31      0.33      0.32        15\n",
            "      triste       0.29      0.47      0.36        15\n",
            "\n",
            "    accuracy                           0.27        45\n",
            "   macro avg       0.20      0.27      0.23        45\n",
            "weighted avg       0.20      0.27      0.23        45\n",
            "\n"
          ]
        },
        {
          "output_type": "execute_result",
          "data": {
            "text/plain": [
              "0.26666666666666666"
            ]
          },
          "metadata": {},
          "execution_count": 267
        }
      ]
    },
    {
      "cell_type": "code",
      "source": [
        "y_pred_knn= knn.predict(x_test_v)\n",
        "resultados_clasificador( x_test_v, y_test_v, knn, \"KNN\", y_pred_knn)\n",
        "\n"
      ],
      "metadata": {
        "colab": {
          "base_uri": "https://localhost:8080/",
          "height": 935
        },
        "id": "y7I4Bv13KZvB",
        "outputId": "520cc191-b1fe-44de-d414-37d763e8de19"
      },
      "execution_count": null,
      "outputs": [
        {
          "output_type": "stream",
          "name": "stdout",
          "text": [
            "KNN\n",
            "------------------\n",
            "El accuaracy para KNN es de 42.199999999999996%\n",
            "\n",
            "\n"
          ]
        },
        {
          "output_type": "display_data",
          "data": {
            "text/plain": [
              "<Figure size 720x720 with 2 Axes>"
            ],
            "image/png": "[encoded data removed]"
          },
          "metadata": {
            "needs_background": "light"
          }
        },
        {
          "output_type": "stream",
          "name": "stdout",
          "text": [
            "\n",
            "\n",
            "              precision    recall  f1-score   support\n",
            "\n",
            "       enojo       0.67      0.13      0.22        15\n",
            "       feliz       0.36      0.27      0.31        15\n",
            "      triste       0.42      0.87      0.57        15\n",
            "\n",
            "    accuracy                           0.42        45\n",
            "   macro avg       0.48      0.42      0.37        45\n",
            "weighted avg       0.48      0.42      0.37        45\n",
            "\n"
          ]
        },
        {
          "output_type": "execute_result",
          "data": {
            "text/plain": [
              "0.4222222222222222"
            ]
          },
          "metadata": {},
          "execution_count": 268
        }
      ]
    },
    {
      "cell_type": "code",
      "source": [
        "y_pred_rf= rf.predict(x_test_v)\n",
        "resultados_clasificador( x_test_v, y_test_v, rf, \"Random Forest\", y_pred_rf)"
      ],
      "metadata": {
        "colab": {
          "base_uri": "https://localhost:8080/",
          "height": 935
        },
        "id": "_gvUXhLAKbnM",
        "outputId": "31c525af-8dbc-4b05-9006-4371ec9b54f1"
      },
      "execution_count": null,
      "outputs": [
        {
          "output_type": "stream",
          "name": "stdout",
          "text": [
            "Random Forest\n",
            "------------------\n",
            "El accuaracy para Random Forest es de 51.1%\n",
            "\n",
            "\n"
          ]
        },
        {
          "output_type": "display_data",
          "data": {
            "text/plain": [
              "<Figure size 720x720 with 2 Axes>"
            ],
            "image/png": "[encoded data removed]"
          },
          "metadata": {
            "needs_background": "light"
          }
        },
        {
          "output_type": "stream",
          "name": "stdout",
          "text": [
            "\n",
            "\n",
            "              precision    recall  f1-score   support\n",
            "\n",
            "       enojo       1.00      0.07      0.12        15\n",
            "       feliz       0.50      0.60      0.55        15\n",
            "      triste       0.50      0.87      0.63        15\n",
            "\n",
            "    accuracy                           0.51        45\n",
            "   macro avg       0.67      0.51      0.43        45\n",
            "weighted avg       0.67      0.51      0.43        45\n",
            "\n"
          ]
        },
        {
          "output_type": "execute_result",
          "data": {
            "text/plain": [
              "0.5111111111111111"
            ]
          },
          "metadata": {},
          "execution_count": 269
        }
      ]
    },
    {
      "cell_type": "code",
      "source": [],
      "metadata": {
        "id": "bB2AQxlrKf4p"
      },
      "execution_count": null,
      "outputs": []
    }
  ]
}